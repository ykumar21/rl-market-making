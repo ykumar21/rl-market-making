{
 "cells": [
  {
   "cell_type": "markdown",
   "id": "041a5add",
   "metadata": {},
   "source": [
    "## Problem Statement \n",
    "\n",
    "The agent has an initial inventory of $N$ stocks that it wishes to trade out. The goal of the agent is to realise this task by placing market or limit orders in either direction and acquire the maximum profit through the bid/ask spread. \n",
    "\n",
    "We take into consideration the following market indicators: \n",
    "- $Time Remaining$: Time remaining after the time period $T_k$\n",
    "- $Quantity Remaining$: Quantity of inventory remaining \n",
    "- $Volume Imbalance$: he difference between the existing order volume on the best bid and best ask price levels for liquidity on both directions\n",
    "- $Bid Ask Spread$: Difference between the lowest ask price and highest bid price\n",
    "- $One Period Price Return$: The log-return of stock price over two consecutive days\n",
    "- $T Period Price Return$: The log-return of stock price since the beginning"
   ]
  },
  {
   "cell_type": "markdown",
   "id": "2cd271b1",
   "metadata": {},
   "source": [
    "## Action Space\n",
    "\n",
    "The agent can take the following actions in the beginning of a trade window T_k: \n",
    "\n",
    "- $Market Order$: The agent can place market order in either direction with a given volume $Q$ to buy/sell the stock at the best current price\n",
    "\n",
    "- $Limit Order$: The agent can place a limit order in either direction with a given volume $Q$ to buy/sell the stock at no worse than price $P$\n",
    "\n",
    "- $Do Nothing$: Do not take any action at the current trade window"
   ]
  },
  {
   "cell_type": "markdown",
   "id": "ca223bb6",
   "metadata": {},
   "source": [
    "## State Space \n",
    "\n",
    "The RL agent has information about the market through the state space representation $s_t$. \n",
    "\n",
    "$$S_t = (timeRem_t, quantityRem_t, volImb_t, spread_t, onePeriodPriceReturn_t, tPeriodPriceReturn_t)$$\n",
    "where: \n",
    "- $timeRem_t = 2* \\frac{T-t}{T} - 1$: the time advancement\n",
    "- $quantityRem_t = 2 * \\frac{N - \\sum_{i=0}^{t} n_t}{N} - 1$: the inventory advancement\n",
    "- $volImb_t = \\frac{Q_{best\\_bid} - Q_{best\\_ask}}{Q_{best\\_bid} + Q_{best\\_ask}}$\n",
    "- $spread_t = P_{bid\\_high} - P_{ask\\_low}$: bid-ask spread\n",
    "- $onePeriodPriceReturn_t = log(\\frac{P_t}{P_{t-1}})$\n",
    "- $tPeriodPriceReturn_t = log(\\frac{P_t}{P_0})$"
   ]
  },
  {
   "cell_type": "markdown",
   "id": "1f0126cd",
   "metadata": {},
   "source": [
    "## Reward Function\n",
    "\n",
    "The reward function $R_t$ measures the execution price slippage and quantity. Formally, $R_t$ is defined as: \n",
    "\n",
    "$$R_t = (1 - \\frac{|P\\_fill - P\\_arrival|}{P\\_arrival}) . \\lambda\\frac{N_t}{N}$$\n",
    "\n",
    "where $\\lambda$ is a constant for scaling the effect of the quantity\n",
    "component."
   ]
  },
  {
   "cell_type": "code",
   "execution_count": 3,
   "id": "90f0980e",
   "metadata": {},
   "outputs": [],
   "source": [
    "import gym \n",
    "import abides_gym"
   ]
  },
  {
   "cell_type": "code",
   "execution_count": 4,
   "id": "1d54c724",
   "metadata": {},
   "outputs": [
    {
     "data": {
      "text/plain": [
       "[0]"
      ]
     },
     "execution_count": 4,
     "metadata": {},
     "output_type": "execute_result"
    }
   ],
   "source": [
    "# create environment and set global seed \n",
    "env = gym.make(\n",
    "        \"markets-execution-v0\",\n",
    "        background_config=\"rmsc04\"\n",
    "    )\n",
    "\n",
    "# set the seed \n",
    "env.seed(0)"
   ]
  },
  {
   "cell_type": "code",
   "execution_count": null,
   "id": "419679b2",
   "metadata": {},
   "outputs": [],
   "source": []
  }
 ],
 "metadata": {
  "kernelspec": {
   "display_name": "Python 3 (ipykernel)",
   "language": "python",
   "name": "python3"
  },
  "language_info": {
   "codemirror_mode": {
    "name": "ipython",
    "version": 3
   },
   "file_extension": ".py",
   "mimetype": "text/x-python",
   "name": "python",
   "nbconvert_exporter": "python",
   "pygments_lexer": "ipython3",
   "version": "3.9.12"
  }
 },
 "nbformat": 4,
 "nbformat_minor": 5
}
